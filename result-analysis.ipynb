{
 "cells": [
  {
   "cell_type": "code",
   "execution_count": 2,
   "metadata": {},
   "outputs": [],
   "source": [
    "import numpy as np\n",
    "import matplotlib.pyplot as plt\n",
    "import pandas as pd"
   ]
  },
  {
   "cell_type": "code",
   "execution_count": 3,
   "metadata": {},
   "outputs": [],
   "source": [
    "iou_small = np.loadtxt(\"./results-small/consolidated.txt\", usecols=5)\n",
    "iou_tiny = np.loadtxt(\"./results-tiny/consolidated.txt\", usecols=5)\n",
    "iou_med = np.loadtxt(\"./results-med/consolidated.txt\", usecols=5)"
   ]
  },
  {
   "cell_type": "code",
   "execution_count": 4,
   "metadata": {},
   "outputs": [],
   "source": [
    "iou_small = iou_small.reshape(10, 4)\n",
    "iou_tiny = iou_tiny.reshape(10, 4)\n",
    "iou_med = iou_med.reshape(10, 3)"
   ]
  },
  {
   "cell_type": "code",
   "execution_count": 5,
   "metadata": {},
   "outputs": [],
   "source": [
    "unet_small = iou_small[:,0]\n",
    "qunet_small = iou_small[:,1]\n",
    "qunet4_small = iou_small[:,2]\n",
    "qunet4_2_small = iou_small[:,3]\n",
    "\n",
    "unet_tiny = iou_tiny[:,0]\n",
    "qunet_tiny = iou_tiny[:,1]\n",
    "qunet4_tiny = iou_tiny[:,2]\n",
    "qunet4_2_tiny = iou_tiny[:,3]\n",
    "\n",
    "unet_med = iou_med[:,0]\n",
    "qunet_med = iou_med[:,1]\n",
    "qunet4_med_dead = iou_med[:,2]"
   ]
  },
  {
   "cell_type": "code",
   "execution_count": 12,
   "metadata": {},
   "outputs": [
    {
     "name": "stdout",
     "output_type": "stream",
     "text": [
      "0.926201581954956,0.9008636474609375,0.9341256022453308,0.9252626895904541,0.9226658940315247,0.926664412021637,0.92694091796875,0.9155547618865967,0.9337682723999023,0.9194016456604004,"
     ]
    }
   ],
   "source": [
    "for data in qunet_med:\n",
    "    print(data, end=',')"
   ]
  },
  {
   "cell_type": "code",
   "execution_count": null,
   "metadata": {},
   "outputs": [],
   "source": [
    "mean_iou_small = np.mean(iou_small, axis=0, keepdims=True)\n",
    "mean_iou_tiny = np.mean(iou_tiny, axis=0, keepdims=True)\n",
    "mean_iou_med = np.mean(iou_med, axis=0, keepdims=True)\n",
    "\n",
    "mean_iou_tiny, mean_iou_small, mean_iou_med"
   ]
  },
  {
   "cell_type": "code",
   "execution_count": null,
   "metadata": {},
   "outputs": [],
   "source": [
    "var_iou_small = np.var(iou_small*100, axis=0, keepdims=True)\n",
    "var_iou_tiny = np.var(iou_tiny*100, axis=0, keepdims=True)\n",
    "var_iou_med = np.var(iou_med*100, axis=0, keepdims=True)\n",
    "\n",
    "var_iou_tiny, var_iou_small, var_iou_med"
   ]
  },
  {
   "cell_type": "code",
   "execution_count": 7,
   "metadata": {},
   "outputs": [],
   "source": [
    "# mean_iou = np.concatenate((mean_iou_tiny, mean_iou_small, mean_iou_med), axis=0)\n",
    "\n",
    "# # Rows - tiny, small, med\n",
    "# # Cols - Unet, QuNet, QuNet4\n",
    "# mean_iou "
   ]
  },
  {
   "cell_type": "code",
   "execution_count": 16,
   "metadata": {},
   "outputs": [],
   "source": [
    "data_small = [unet_small, qunet_small, qunet4_2_small]\n",
    "data_tiny = [unet_tiny, qunet_tiny, qunet4_2_tiny]\n",
    "data_med = [unet_med, qunet_med]"
   ]
  },
  {
   "cell_type": "code",
   "execution_count": null,
   "metadata": {},
   "outputs": [],
   "source": [
    "plt.figure(figsize=(6, 4))\n",
    "plt.boxplot(data_small, labels=['U-Net', 'QuNet', 'QuNet4_2'], patch_artist=True, \n",
    "            boxprops=dict(facecolor='lightblue', color='blue'),\n",
    "            medianprops=dict(color='red'),\n",
    "            whiskerprops=dict(color='blue'))\n",
    "\n",
    "# Adding titles and labels\n",
    "plt.title('Model Performance Comparison - Small', fontsize=12)\n",
    "plt.xlabel('Models', fontsize=12)\n",
    "plt.ylabel('IoU', fontsize=12)\n",
    "\n",
    "# Show grid for better readability\n",
    "plt.grid(axis='y', linestyle='--', alpha=0.7)\n",
    "\n",
    "# Display the plot\n",
    "plt.show()"
   ]
  },
  {
   "cell_type": "code",
   "execution_count": null,
   "metadata": {},
   "outputs": [],
   "source": [
    "plt.figure(figsize=(6, 4))\n",
    "plt.boxplot(data_tiny, labels=['U-Net', 'QuNet', 'QuNet4_2'], patch_artist=True, \n",
    "            boxprops=dict(facecolor='lightblue', color='blue'),\n",
    "            medianprops=dict(color='red'),\n",
    "            whiskerprops=dict(color='blue'))\n",
    "\n",
    "# Adding titles and labels\n",
    "plt.title('Model Performance Comparison - tiny', fontsize=12)\n",
    "plt.xlabel('Models', fontsize=12)\n",
    "plt.ylabel('IoU', fontsize=12)\n",
    "\n",
    "# Show grid for better readability\n",
    "plt.grid(axis='y', linestyle='--', alpha=0.7)\n",
    "\n",
    "# Display the plot\n",
    "plt.show()"
   ]
  },
  {
   "cell_type": "code",
   "execution_count": null,
   "metadata": {},
   "outputs": [],
   "source": [
    "plt.figure(figsize=(6, 4))\n",
    "plt.boxplot(data_med, labels=['U-Net', 'QuNet4_2'], patch_artist=True, \n",
    "            boxprops=dict(facecolor='lightblue', color='blue'),\n",
    "            medianprops=dict(color='red'),\n",
    "            whiskerprops=dict(color='blue'))\n",
    "\n",
    "# Adding titles and labels\n",
    "plt.title('Model Performance Comparison - Medium', fontsize=12)\n",
    "plt.xlabel('Models', fontsize=12)\n",
    "plt.ylabel('IoU', fontsize=12)\n",
    "\n",
    "# Show grid for better readability\n",
    "plt.grid(axis='y', linestyle='--', alpha=0.7)\n",
    "\n",
    "# Display the plot\n",
    "plt.show()"
   ]
  },
  {
   "cell_type": "code",
   "execution_count": 22,
   "metadata": {},
   "outputs": [],
   "source": [
    "data_unet = [unet_tiny, unet_small, unet_med]\n",
    "data_qunet4_2 = [qunet4_2_tiny, qunet4_2_small, qunet_med]"
   ]
  },
  {
   "cell_type": "code",
   "execution_count": null,
   "metadata": {},
   "outputs": [],
   "source": [
    "plt.figure(figsize=(6, 4))\n",
    "plt.boxplot(data_unet, labels=['Tiny', 'Small', 'Medium'], patch_artist=True, \n",
    "            boxprops=dict(facecolor='lightblue', color='blue'),\n",
    "            medianprops=dict(color='red'),\n",
    "            whiskerprops=dict(color='blue'))\n",
    "\n",
    "# Adding titles and labels\n",
    "plt.title('Model Performance Comparison - Unet', fontsize=12)\n",
    "plt.xlabel('Models', fontsize=12)\n",
    "plt.ylabel('IoU', fontsize=12)\n",
    "\n",
    "# Show grid for better readability\n",
    "plt.grid(axis='y', linestyle='--', alpha=0.7)\n",
    "\n",
    "# Display the plot\n",
    "plt.show()"
   ]
  },
  {
   "cell_type": "code",
   "execution_count": null,
   "metadata": {},
   "outputs": [],
   "source": [
    "plt.figure(figsize=(6, 4))\n",
    "plt.boxplot(data_qunet4_2, labels=['Tiny', 'Small', 'Medium'], patch_artist=True, \n",
    "            boxprops=dict(facecolor='lightblue', color='blue'),\n",
    "            medianprops=dict(color='red'),\n",
    "            whiskerprops=dict(color='blue'))\n",
    "\n",
    "# Adding titles and labels\n",
    "plt.title('Model Performance Comparison - QuNet4_2', fontsize=12)\n",
    "plt.xlabel('Models', fontsize=12)\n",
    "plt.ylabel('IoU', fontsize=12)\n",
    "\n",
    "# Show grid for better readability\n",
    "plt.grid(axis='y', linestyle='--', alpha=0.7)\n",
    "\n",
    "# Display the plot\n",
    "plt.show()"
   ]
  },
  {
   "cell_type": "code",
   "execution_count": null,
   "metadata": {},
   "outputs": [],
   "source": [
    "runs = np.array(range(1, 11))\n",
    "\n",
    "# Bar width and positions\n",
    "bar_width = 0.35\n",
    "x_unet = runs - bar_width / 2\n",
    "x_qunet = runs + bar_width / 2\n",
    "\n",
    "# Plot\n",
    "plt.figure(figsize=(10, 6))\n",
    "plt.bar(x_unet, unet_small*100, width=bar_width, label=\"U-Net\", color=\"skyblue\", edgecolor=\"black\")\n",
    "plt.bar(x_qunet, qunet4_2_small*100, width=bar_width, label=\"QuNet\", color=\"orange\", edgecolor=\"black\")\n",
    "\n",
    "# Labels and Title\n",
    "plt.xlabel(\"Runs\", fontsize=12)\n",
    "plt.ylabel(\"IoU\", fontsize=12)\n",
    "plt.title(\"IoU Comparison: U-Net vs. QuNet Across 10 Runs\", fontsize=14)\n",
    "plt.xticks(runs, labels=[f\"Run {i}\" for i in runs])  # Label x-axis with \"Run 1\", \"Run 2\", ...\n",
    "plt.ylim(0, 100.0)  # Adjust y-axis limits for better visualization\n",
    "plt.legend(fontsize=12)\n",
    "plt.grid(axis=\"y\", linestyle=\"--\", alpha=0.7)\n",
    "\n",
    "# Show the plot\n",
    "plt.tight_layout()\n",
    "plt.show()"
   ]
  },
  {
   "cell_type": "code",
   "execution_count": null,
   "metadata": {},
   "outputs": [],
   "source": [
    "import numpy as np\n",
    "import matplotlib.pyplot as plt\n",
    "\n",
    "# Example data: IoU scores for 10 runs for two models in three categories\n",
    "categories = [\"Tiny\", \"Small\", \"Medium\"]\n",
    "\n",
    "# IoU scores for U-Net and QUNet in each category\n",
    "iou_data = {\n",
    "    \"Tiny\": {\n",
    "        \"U-Net\": unet_tiny,\n",
    "        \"QuNet\": qunet4_2_tiny,\n",
    "    },\n",
    "    \"Small\": {\n",
    "        \"U-Net\": unet_small,\n",
    "        \"QuNet\": qunet4_2_small,\n",
    "    },\n",
    "    \"Medium\": {\n",
    "        \"U-Net\": unet_med,\n",
    "        \"QuNet\": qunet_med,\n",
    "    },\n",
    "}\n",
    "\n",
    "# Plot configuration\n",
    "fig, axes = plt.subplots(1, 3, figsize=(12, 4), sharey=True)\n",
    "bar_width = 0.35\n",
    "\n",
    "for i, category in enumerate(categories):\n",
    "    ax = axes[i]\n",
    "    runs = np.arange(1, 11)  # 10 runs labeled as 1, 2, ..., 10\n",
    "    iou_unet = iou_data[category][\"U-Net\"]\n",
    "    iou_qunet = iou_data[category][\"QuNet\"]\n",
    "    \n",
    "    # Bar positions\n",
    "    x_unet = runs - bar_width / 2\n",
    "    x_qunet = runs + bar_width / 2\n",
    "    \n",
    "    # Bar plot for the current category\n",
    "    ax.bar(x_unet, iou_unet, width=bar_width, label=\"U-Net\", color=\"skyblue\", edgecolor=\"black\")\n",
    "    ax.bar(x_qunet, iou_qunet, width=bar_width, label=\"QuNet\", color=\"orange\", edgecolor=\"black\")\n",
    "    \n",
    "    # Axis labels and title\n",
    "    ax.set_title(f\"{category} Models\", fontsize=14)\n",
    "    ax.set_xlabel(\"Runs\", fontsize=12)\n",
    "    ax.set_xticks(runs)\n",
    "    ax.set_xticklabels([f\"Run {i}\" for i in runs], rotation=45)\n",
    "    if i == 0:  # Add y-axis label only for the first subplot\n",
    "        ax.set_ylabel(\"IoU\", fontsize=12)\n",
    "    ax.set_ylim(0.60, 1.0)  # Adjust y-axis limits for better comparison\n",
    "    ax.grid(axis=\"y\", linestyle=\"--\", alpha=0.7)\n",
    "    ax.legend(fontsize=10)\n",
    "\n",
    "# Adjust layout\n",
    "plt.tight_layout()\n",
    "plt.suptitle(\"IoU Comparison Across Categories (Tiny, Small, Medium)\", fontsize=16, y=1.02)\n",
    "plt.subplots_adjust(top=0.85)\n",
    "\n",
    "# Show the plot\n",
    "plt.show()\n"
   ]
  },
  {
   "cell_type": "markdown",
   "metadata": {},
   "source": [
    "---"
   ]
  },
  {
   "cell_type": "code",
   "execution_count": null,
   "metadata": {},
   "outputs": [],
   "source": [
    "import matplotlib.pyplot as plt\n",
    "import numpy as np\n",
    "\n",
    "# Example data (replace with your actual data)\n",
    "\n",
    "data = data_small + data_tiny + data_med\n",
    "\n",
    "print(len(data))\n",
    "\n",
    "categories = ['Small', 'Tiny', 'Med']\n",
    "models = ['Unet', 'QuNet', 'QuNet4']\n",
    "\n",
    "# Set up the plot\n",
    "fig, ax = plt.subplots(figsize=(10, 6))\n",
    "positions = []\n",
    "for i in range(len(categories)):\n",
    "    positions += [i * (len(models) + 1) + j for j in range(len(models))]\n",
    "\n",
    "# Box plot\n",
    "box = ax.boxplot(data, positions=positions, patch_artist=True, widths=0.6, \n",
    "                 boxprops=dict(facecolor='lightblue', color='blue'),\n",
    "                 medianprops=dict(color='red'),\n",
    "                 whiskerprops=dict(color='blue'))\n",
    "\n",
    "# Customize axes\n",
    "ax.set_xticks([i * (len(models) + 1) + 1 for i in range(len(categories))])\n",
    "ax.set_xticklabels(categories, fontsize=10)\n",
    "ax.set_xlabel('Categories', fontsize=12)\n",
    "ax.set_ylabel('IoU', fontsize=12)\n",
    "ax.set_title('Performance Comparison Across Categories and Models', fontsize=14)\n",
    "ax.grid(axis='y', linestyle='--', alpha=0.7)\n",
    "\n",
    "# Add legend\n",
    "legend_handles = [plt.Line2D([], [], color='blue', lw=2, label=models[j]) for j in range(len(models))]\n",
    "ax.legend(handles=legend_handles, labels=models, title='Models', loc='lower right')\n",
    "\n",
    "# Display the plot\n",
    "plt.show()\n"
   ]
  },
  {
   "cell_type": "code",
   "execution_count": null,
   "metadata": {},
   "outputs": [],
   "source": []
  }
 ],
 "metadata": {
  "kernelspec": {
   "display_name": "qonco",
   "language": "python",
   "name": "python3"
  },
  "language_info": {
   "codemirror_mode": {
    "name": "ipython",
    "version": 3
   },
   "file_extension": ".py",
   "mimetype": "text/x-python",
   "name": "python",
   "nbconvert_exporter": "python",
   "pygments_lexer": "ipython3",
   "version": "3.10.12"
  }
 },
 "nbformat": 4,
 "nbformat_minor": 2
}
