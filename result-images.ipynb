{
 "cells": [
  {
   "cell_type": "code",
   "execution_count": 1,
   "metadata": {},
   "outputs": [],
   "source": [
    "import numpy as np\n",
    "import matplotlib.pyplot as plt\n",
    "import json"
   ]
  },
  {
   "cell_type": "code",
   "execution_count": 2,
   "metadata": {},
   "outputs": [],
   "source": [
    "run = 'run1' # run6\n",
    "scale = 'med'\n",
    "\n",
    "# scale - medium, run1 and run6"
   ]
  },
  {
   "cell_type": "code",
   "execution_count": 3,
   "metadata": {},
   "outputs": [
    {
     "data": {
      "text/plain": [
       "76"
      ]
     },
     "execution_count": 3,
     "metadata": {},
     "output_type": "execute_result"
    }
   ],
   "source": [
    "with open(\"./results-{}/{}/paths/test_img_paths.json\".format(scale, run)) as f:\n",
    "    paths = json.load(f)\n",
    "\n",
    "len(paths)"
   ]
  },
  {
   "cell_type": "code",
   "execution_count": 4,
   "metadata": {},
   "outputs": [],
   "source": [
    "predictions_unet = np.load(\"./results-{}/{}/unet/predictions.npy\".format(scale, run))\n",
    "predictions_qunet = np.load(\"./results-{}/{}/qcnn_res1/predictions.npy\".format(scale, run))\n",
    "# predictions_qunet4_2 = np.load(\"./results-{}/{}/qcnn_res-4-2/predictions.npy\".format(scale, run))\n",
    "# predictions_qunet4_2 = np.load(\"./results-{}/{}/qcnn_res_tiny4-2/predictions.npy\".format(scale, run))"
   ]
  },
  {
   "cell_type": "code",
   "execution_count": 5,
   "metadata": {},
   "outputs": [],
   "source": [
    "predictions_unet_thresh = (predictions_unet > 0.5).astype(np.int16)\n",
    "predictions_qunet_thresh = (predictions_qunet > 0.5).astype(np.int16)\n",
    "# predictions_qunet4_2_thresh = (predictions_qunet4_2 > 0.5).astype(np.int16)"
   ]
  },
  {
   "cell_type": "code",
   "execution_count": 6,
   "metadata": {},
   "outputs": [],
   "source": [
    "# Function to visualize a batch of images, ground truth masks, and predictions\n",
    "def visualize_batch(images_unet, images_qunet, images_qunet4_2, num_images=30, start = 0):\n",
    "    fig, axs = plt.subplots(num_images, 3, figsize=(7, num_images * 2))\n",
    "    \n",
    "    for i in range(num_images):\n",
    "        axs[i, 0].imshow(images_unet[start + i].squeeze(), cmap=\"gray\", vmin=0, vmax=1)\n",
    "        axs[i, 0].set_title(f'Unet {start + i+1}')\n",
    "        axs[i, 0].axis('off')\n",
    "        \n",
    "        axs[i, 1].imshow(images_qunet[start + i].squeeze(), cmap=\"gray\", vmin=0, vmax=1)\n",
    "        axs[i, 1].set_title(f'QuNet {start + i+1}')\n",
    "        axs[i, 1].axis('off')\n",
    "        \n",
    "        axs[i, 2].imshow(images_qunet4_2[start + i].squeeze(), cmap=\"gray\", vmin=0, vmax=1)\n",
    "        axs[i, 2].set_title(f'QuNet4_2 {start + i+1}')\n",
    "        axs[i, 2].axis('off')\n",
    "    \n",
    "    plt.tight_layout()\n",
    "    plt.show()"
   ]
  },
  {
   "cell_type": "code",
   "execution_count": 7,
   "metadata": {},
   "outputs": [],
   "source": [
    "# visualize_batch(predictions_unet_thresh, predictions_qunet_thresh, predictions_qunet4_2_thresh, num_images=40, start=36)"
   ]
  },
  {
   "cell_type": "code",
   "execution_count": 8,
   "metadata": {},
   "outputs": [],
   "source": [
    "# visualize_batch(predictions_unet_thresh, predictions_qunet_thresh, predictions_qunet_thresh, num_images= 46, start = 30)"
   ]
  },
  {
   "cell_type": "code",
   "execution_count": 7,
   "metadata": {},
   "outputs": [],
   "source": [
    "selected_images_small_run0 = [4, 14, 20, 46, 50]\n",
    "\n",
    "selected_images_tiny_run1 = [3, 9, 11, 19, 20]\n",
    "\n",
    "selected_images_tiny_run6 = [3, 9, 16, 25, 28, 37, 49, 57, 76]\n",
    "\n",
    "selected_images_small_run6 = [3, 9, 36, 37, 46, 49, 55, 66]\n",
    "\n",
    "selected_images_med_run6 = [3, 9, 12, 29, 33, 40, 44, 45, 47, 49, 56, 60, 76]\n",
    "\n",
    "## Run1 \n",
    "selected_images_med_run1 = [3, 5, 8, 37, 75]\n",
    "\n",
    "selected_images_small_run1 = [3, 9, 16, 17, 29, 37, 48, 75]\n",
    "\n",
    "selected_images_tiny_run1 = [3, 9, 11, 19, 37, 48, 52, 75]"
   ]
  },
  {
   "cell_type": "code",
   "execution_count": 48,
   "metadata": {},
   "outputs": [],
   "source": [
    "# for idx in selected_images_med_run6:\n",
    "#     print(paths[idx-1])"
   ]
  },
  {
   "cell_type": "code",
   "execution_count": 49,
   "metadata": {},
   "outputs": [],
   "source": [
    "# for idx in selected_images_small_run6:\n",
    "#     print(paths[idx-1])"
   ]
  },
  {
   "cell_type": "code",
   "execution_count": 50,
   "metadata": {},
   "outputs": [],
   "source": [
    "# for idx in selected_images_tiny_run6:\n",
    "#     print(paths[idx-1])"
   ]
  },
  {
   "cell_type": "code",
   "execution_count": 8,
   "metadata": {},
   "outputs": [],
   "source": [
    "final_selected = [3, 9, 37, 49, 76]\n",
    "final_selected_run1 = [3, 9, 37, 75]"
   ]
  },
  {
   "cell_type": "code",
   "execution_count": 25,
   "metadata": {},
   "outputs": [],
   "source": [
    "curr = 74"
   ]
  },
  {
   "cell_type": "code",
   "execution_count": 26,
   "metadata": {},
   "outputs": [
    {
     "name": "stdout",
     "output_type": "stream",
     "text": [
      "./dataset_ori/Pomegranate/Images/21.jpg\n"
     ]
    }
   ],
   "source": [
    "print(paths[curr])"
   ]
  },
  {
   "cell_type": "code",
   "execution_count": 27,
   "metadata": {},
   "outputs": [
    {
     "data": {
      "text/plain": [
       "(-0.5, 63.5, 63.5, -0.5)"
      ]
     },
     "execution_count": 27,
     "metadata": {},
     "output_type": "execute_result"
    },
    {
     "data": {
      "image/png": "[encoded data removed]",
      "text/plain": [
       "<Figure size 640x480 with 1 Axes>"
      ]
     },
     "metadata": {},
     "output_type": "display_data"
    }
   ],
   "source": [
    "plt.imshow(predictions_unet_thresh[curr], cmap='gray')\n",
    "# plt.imshow(predictions_unet[curr], cmap='gray')\n",
    "plt.axis(\"off\")"
   ]
  },
  {
   "cell_type": "code",
   "execution_count": 28,
   "metadata": {},
   "outputs": [
    {
     "data": {
      "text/plain": [
       "(-0.5, 63.5, 63.5, -0.5)"
      ]
     },
     "execution_count": 28,
     "metadata": {},
     "output_type": "execute_result"
    },
    {
     "data": {
      "image/png": "[encoded data removed]",
      "text/plain": [
       "<Figure size 640x480 with 1 Axes>"
      ]
     },
     "metadata": {},
     "output_type": "display_data"
    }
   ],
   "source": [
    "plt.imshow(predictions_qunet_thresh[curr], cmap='gray')\n",
    "# plt.imshow(predictions_qunet[curr], cmap='gray')\n",
    "plt.axis(\"off\")"
   ]
  },
  {
   "cell_type": "code",
   "execution_count": 14,
   "metadata": {},
   "outputs": [],
   "source": [
    "# plt.imshow(predictions_qunet4_2_thresh[curr], cmap='gray')\n",
    "# plt.imshow(predictions_qunet4_2[curr], cmap='gray')\n",
    "# plt.axis(\"off\")"
   ]
  },
  {
   "cell_type": "code",
   "execution_count": null,
   "metadata": {},
   "outputs": [],
   "source": []
  }
 ],
 "metadata": {
  "kernelspec": {
   "display_name": "qonco",
   "language": "python",
   "name": "python3"
  },
  "language_info": {
   "codemirror_mode": {
    "name": "ipython",
    "version": 3
   },
   "file_extension": ".py",
   "mimetype": "text/x-python",
   "name": "python",
   "nbconvert_exporter": "python",
   "pygments_lexer": "ipython3",
   "version": "3.10.12"
  }
 },
 "nbformat": 4,
 "nbformat_minor": 2
}
